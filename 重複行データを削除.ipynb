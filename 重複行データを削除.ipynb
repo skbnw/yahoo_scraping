{
  "nbformat": 4,
  "nbformat_minor": 0,
  "metadata": {
    "colab": {
      "name": "重複行データを削除.ipynb",
      "provenance": [],
      "authorship_tag": "ABX9TyMHltAA/uUWdjfNY++hOn3R",
      "include_colab_link": true
    },
    "kernelspec": {
      "name": "python3",
      "display_name": "Python 3"
    },
    "language_info": {
      "name": "python"
    }
  },
  "cells": [
    {
      "cell_type": "markdown",
      "metadata": {
        "id": "view-in-github",
        "colab_type": "text"
      },
      "source": [
        "<a href=\"https://colab.research.google.com/github/skbnw/yahoo_scraping/blob/main/%E9%87%8D%E8%A4%87%E8%A1%8C%E3%83%87%E3%83%BC%E3%82%BF%E3%82%92%E5%89%8A%E9%99%A4.ipynb\" target=\"_parent\"><img src=\"https://colab.research.google.com/assets/colab-badge.svg\" alt=\"Open In Colab\"/></a>"
      ]
    },
    {
      "cell_type": "code",
      "metadata": {
        "id": "rF8TsaiIesix"
      },
      "source": [
        "#重複データ数を削除\n",
        "import pandas as pd\n",
        "\n",
        "df = pd.read_csv('***'.csv')\n",
        "df.drop_duplicates(subset=None, keep=\"first\", inplace=True)\n",
        "df = df.loc[:, ~df.columns.str.contains('^Unnamed')]\n",
        "df.to_csv('***a.csv',index=None)"
      ],
      "execution_count": null,
      "outputs": []
    }
  ]
}