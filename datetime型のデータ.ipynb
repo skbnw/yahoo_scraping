{
 "cells": [
  {
   "cell_type": "markdown",
   "metadata": {},
   "source": [
    "Pythonには、日付のdate、日付時間のdatetime、時間差のtimedeltaの型がある。\n",
    "\n",
    "なぜか。日付は（普通の数字とは違うが）順序もあるし、足し算、引き算ができるし、（しかし掛け算の意味はわからない）、（数字と違う）独自の表示方法がある。だから、floatとかintとは違う「数値型」として、準備してある。"
   ]
  },
  {
   "cell_type": "code",
   "execution_count": 1,
   "metadata": {},
   "outputs": [],
   "source": [
    "from datetime import date\n",
    "t = date.fromisoformat(\"2021-04-05\")"
   ]
  },
  {
   "cell_type": "markdown",
   "metadata": {},
   "source": [
    "独自の表示は以下のように確かめられる。"
   ]
  },
  {
   "cell_type": "code",
   "execution_count": 2,
   "metadata": {},
   "outputs": [
    {
     "name": "stdout",
     "output_type": "stream",
     "text": [
      "2021-04-05\n"
     ]
    }
   ],
   "source": [
    "print(t)"
   ]
  },
  {
   "cell_type": "markdown",
   "metadata": {},
   "source": [
    "日付時間の場合"
   ]
  },
  {
   "cell_type": "code",
   "execution_count": 3,
   "metadata": {},
   "outputs": [],
   "source": [
    "from datetime import datetime\n",
    "d = datetime(2021,3,5,12,5,20)"
   ]
  },
  {
   "cell_type": "code",
   "execution_count": 4,
   "metadata": {},
   "outputs": [
    {
     "name": "stdout",
     "output_type": "stream",
     "text": [
      "2021-03-05 12:05:20\n"
     ]
    }
   ],
   "source": [
    "print(d)"
   ]
  },
  {
   "cell_type": "markdown",
   "metadata": {},
   "source": [
    "時間の引き算ができる。結果はtimedelta型になる。"
   ]
  },
  {
   "cell_type": "code",
   "execution_count": 5,
   "metadata": {},
   "outputs": [
    {
     "name": "stdout",
     "output_type": "stream",
     "text": [
      "<class 'datetime.timedelta'>\n",
      "94 days, 12:05:20\n"
     ]
    }
   ],
   "source": [
    "d1 = datetime(2021,1,1,0,0,0)\n",
    "d2 = datetime(2021,4,5,12,5,20)\n",
    "delta1 = d2 - d1\n",
    "print( type(delta1) )\n",
    "print(delta1)"
   ]
  },
  {
   "cell_type": "markdown",
   "metadata": {},
   "source": [
    "各データ型には様々な属性やメソッドがある。"
   ]
  },
  {
   "cell_type": "code",
   "execution_count": 6,
   "metadata": {},
   "outputs": [
    {
     "name": "stdout",
     "output_type": "stream",
     "text": [
      "2021\n",
      "4\n",
      "0\n"
     ]
    }
   ],
   "source": [
    "print( t.year )\n",
    "print( t.month )\n",
    "print( t.weekday() ) # 月曜日が0、日曜日が6になる"
   ]
  },
  {
   "cell_type": "markdown",
   "metadata": {},
   "source": [
    "#### スクレイピングデータを解釈する例\n",
    "\n",
    "日付を表す文字列は、'3/15(月) 15:49'という、極めて日本的なフォーマットである。"
   ]
  },
  {
   "cell_type": "code",
   "execution_count": 7,
   "metadata": {},
   "outputs": [
    {
     "ename": "ValueError",
     "evalue": "time data '2021/3/15(月) 15:49' does not match format '%Y/%m/%d(%a) %H:%M'",
     "output_type": "error",
     "traceback": [
      "\u001b[0;31m---------------------------------------------------------------------------\u001b[0m",
      "\u001b[0;31mValueError\u001b[0m                                Traceback (most recent call last)",
      "\u001b[0;32m<ipython-input-7-9b2a2829acea>\u001b[0m in \u001b[0;36m<module>\u001b[0;34m\u001b[0m\n\u001b[1;32m      1\u001b[0m \u001b[0mstr_date\u001b[0m \u001b[0;34m=\u001b[0m \u001b[0;34m'3/15(月) 15:49'\u001b[0m\u001b[0;34m\u001b[0m\u001b[0;34m\u001b[0m\u001b[0m\n\u001b[1;32m      2\u001b[0m \u001b[0;34m\u001b[0m\u001b[0m\n\u001b[0;32m----> 3\u001b[0;31m \u001b[0mdatetime\u001b[0m\u001b[0;34m.\u001b[0m\u001b[0mstrptime\u001b[0m\u001b[0;34m(\u001b[0m\u001b[0;34m\"2021/\"\u001b[0m \u001b[0;34m+\u001b[0m \u001b[0mstr_date\u001b[0m\u001b[0;34m,\u001b[0m \u001b[0;34m\"%Y/%m/%d(%a) %H:%M\"\u001b[0m\u001b[0;34m)\u001b[0m\u001b[0;34m\u001b[0m\u001b[0;34m\u001b[0m\u001b[0m\n\u001b[0m",
      "\u001b[0;32m/opt/anaconda3/lib/python3.7/_strptime.py\u001b[0m in \u001b[0;36m_strptime_datetime\u001b[0;34m(cls, data_string, format)\u001b[0m\n\u001b[1;32m    575\u001b[0m     \"\"\"Return a class cls instance based on the input string and the\n\u001b[1;32m    576\u001b[0m     format string.\"\"\"\n\u001b[0;32m--> 577\u001b[0;31m     \u001b[0mtt\u001b[0m\u001b[0;34m,\u001b[0m \u001b[0mfraction\u001b[0m\u001b[0;34m,\u001b[0m \u001b[0mgmtoff_fraction\u001b[0m \u001b[0;34m=\u001b[0m \u001b[0m_strptime\u001b[0m\u001b[0;34m(\u001b[0m\u001b[0mdata_string\u001b[0m\u001b[0;34m,\u001b[0m \u001b[0mformat\u001b[0m\u001b[0;34m)\u001b[0m\u001b[0;34m\u001b[0m\u001b[0;34m\u001b[0m\u001b[0m\n\u001b[0m\u001b[1;32m    578\u001b[0m     \u001b[0mtzname\u001b[0m\u001b[0;34m,\u001b[0m \u001b[0mgmtoff\u001b[0m \u001b[0;34m=\u001b[0m \u001b[0mtt\u001b[0m\u001b[0;34m[\u001b[0m\u001b[0;34m-\u001b[0m\u001b[0;36m2\u001b[0m\u001b[0;34m:\u001b[0m\u001b[0;34m]\u001b[0m\u001b[0;34m\u001b[0m\u001b[0;34m\u001b[0m\u001b[0m\n\u001b[1;32m    579\u001b[0m     \u001b[0margs\u001b[0m \u001b[0;34m=\u001b[0m \u001b[0mtt\u001b[0m\u001b[0;34m[\u001b[0m\u001b[0;34m:\u001b[0m\u001b[0;36m6\u001b[0m\u001b[0;34m]\u001b[0m \u001b[0;34m+\u001b[0m \u001b[0;34m(\u001b[0m\u001b[0mfraction\u001b[0m\u001b[0;34m,\u001b[0m\u001b[0;34m)\u001b[0m\u001b[0;34m\u001b[0m\u001b[0;34m\u001b[0m\u001b[0m\n",
      "\u001b[0;32m/opt/anaconda3/lib/python3.7/_strptime.py\u001b[0m in \u001b[0;36m_strptime\u001b[0;34m(data_string, format)\u001b[0m\n\u001b[1;32m    357\u001b[0m     \u001b[0;32mif\u001b[0m \u001b[0;32mnot\u001b[0m \u001b[0mfound\u001b[0m\u001b[0;34m:\u001b[0m\u001b[0;34m\u001b[0m\u001b[0;34m\u001b[0m\u001b[0m\n\u001b[1;32m    358\u001b[0m         raise ValueError(\"time data %r does not match format %r\" %\n\u001b[0;32m--> 359\u001b[0;31m                          (data_string, format))\n\u001b[0m\u001b[1;32m    360\u001b[0m     \u001b[0;32mif\u001b[0m \u001b[0mlen\u001b[0m\u001b[0;34m(\u001b[0m\u001b[0mdata_string\u001b[0m\u001b[0;34m)\u001b[0m \u001b[0;34m!=\u001b[0m \u001b[0mfound\u001b[0m\u001b[0;34m.\u001b[0m\u001b[0mend\u001b[0m\u001b[0;34m(\u001b[0m\u001b[0;34m)\u001b[0m\u001b[0;34m:\u001b[0m\u001b[0;34m\u001b[0m\u001b[0;34m\u001b[0m\u001b[0m\n\u001b[1;32m    361\u001b[0m         raise ValueError(\"unconverted data remains: %s\" %\n",
      "\u001b[0;31mValueError\u001b[0m: time data '2021/3/15(月) 15:49' does not match format '%Y/%m/%d(%a) %H:%M'"
     ]
    }
   ],
   "source": [
    "str_date = '3/15(月) 15:49'\n",
    "\n",
    "datetime.strptime(\"2021/\" + str_date, \"%Y/%m/%d(%a) %H:%M\")"
   ]
  },
  {
   "cell_type": "markdown",
   "metadata": {},
   "source": [
    "Pythonの標準的な文字列変換ではエラーになる。(月)が処理できないようだ。\n",
    "\n",
    "ならば、削除するしかない。\n",
    "\n",
    "それには、正規表現を使い、(月)を空文字で置換する。"
   ]
  },
  {
   "cell_type": "code",
   "execution_count": 8,
   "metadata": {},
   "outputs": [
    {
     "data": {
      "text/plain": [
       "'3/15 15:49'"
      ]
     },
     "execution_count": 8,
     "metadata": {},
     "output_type": "execute_result"
    }
   ],
   "source": [
    "str_date = '3/15(月) 15:49'\n",
    "\n",
    "import re\n",
    "\n",
    "re.sub('\\([月火水木金土日]\\)', \"\", str_date)"
   ]
  },
  {
   "cell_type": "markdown",
   "metadata": {},
   "source": [
    "これで、丸括弧の曜日を削除することができた。これを関数にする。"
   ]
  },
  {
   "cell_type": "code",
   "execution_count": 9,
   "metadata": {},
   "outputs": [
    {
     "data": {
      "text/plain": [
       "datetime.datetime(2021, 3, 15, 15, 49)"
      ]
     },
     "execution_count": 9,
     "metadata": {},
     "output_type": "execute_result"
    }
   ],
   "source": [
    "import re\n",
    "def dateString2Datetime(_string):\n",
    "    cleaned_string = re.sub('\\([月火水木金土日]\\)', \"\", _string)\n",
    "    return datetime.strptime(\"2021/\" + cleaned_string, \"%Y/%m/%d %H:%M\")\n",
    "\n",
    "# test\n",
    "dateString2Datetime('3/15(月) 15:49')"
   ]
  },
  {
   "cell_type": "code",
   "execution_count": 10,
   "metadata": {},
   "outputs": [
    {
     "name": "stdout",
     "output_type": "stream",
     "text": [
      "<li class=\"newsFeed_item newsFeed_item-movie\"><a class=\"newsFeed_item_link\" data-ylk=\"rsec:st_media;slk:article;pos:1\" href=\"https://news.yahoo.co.jp/articles/0dff7866d65be200fd7430c87688ed17b4f41165\"><div class=\"newsFeed_item_thumbnail\"><div class=\"sc-elJkPf gHapva thumbnail thumbnail-middle\"><img alt=\"\" class=\"sc-jtRfpW fqNeGA\" loading=\"lazy\" src=\"https://amd-pctr.c.yimg.jp/r/iwiz-amd/20210404-00010000-redchair-000-2-thumb.jpg?w=200&amp;h=133&amp;q=90&amp;exp=10800&amp;pri=l\"/><span class=\"sc-kTUwUJ iGrant\"><svg class=\"sc-gxMtzJ bKMivF\" fill=\"#fff\" height=\"11\" viewbox=\"0 0 48 48\" width=\"11\"><path d=\"M38.88 25.38c1.494-.76 1.494-2.001 0-2.761L10.715 8.299C9.222 7.54 8 8.277 8 9.935v28.133c0 1.658 1.222 2.393 2.715 1.633L38.88 25.38z\" fill-rule=\"evenodd\"></path></svg><span class=\"sc-dqBHgY lbVPIT\">31:57</span></span></div></div><div class=\"newsFeed_item_text\"><div class=\"newsFeed_item_title\">僕、このまま終わるんじゃないですか――はじめしゃちょーの「ガチ相談」、佐藤二朗の回答は</div><div class=\"newsFeed_item_sub\"><div class=\"newsFeed_item_sourceWrap\"><time class=\"newsFeed_item_date\" datetime=\"datetime\">4/4(日)<!-- --> <!-- -->16:21</time></div></div></div></a></li>\n",
      "<li class=\"newsFeed_item newsFeed_item-movie\"><a class=\"newsFeed_item_link\" data-ylk=\"rsec:st_media;slk:article;pos:2\" href=\"https://news.yahoo.co.jp/articles/2fb15e5c12df914138044832fa56fb90903b8a89\"><div class=\"newsFeed_item_thumbnail\"><div class=\"sc-elJkPf gHapva thumbnail thumbnail-middle\"><img alt=\"\" class=\"sc-jtRfpW fqNeGA\" loading=\"lazy\" src=\"https://amd-pctr.c.yimg.jp/r/iwiz-amd/20210315-00010000-redchair-000-2-thumb.jpg?w=200&amp;h=133&amp;q=90&amp;exp=10800&amp;pri=l\"/><span class=\"sc-kTUwUJ iGrant\"><svg class=\"sc-gxMtzJ bKMivF\" fill=\"#fff\" height=\"11\" viewbox=\"0 0 48 48\" width=\"11\"><path d=\"M38.88 25.38c1.494-.76 1.494-2.001 0-2.761L10.715 8.299C9.222 7.54 8 8.277 8 9.935v28.133c0 1.658 1.222 2.393 2.715 1.633L38.88 25.38z\" fill-rule=\"evenodd\"></path></svg><span class=\"sc-dqBHgY lbVPIT\">27:57</span></span></div></div><div class=\"newsFeed_item_text\"><div class=\"newsFeed_item_title\">「ロールモデルがいない」三浦瑠麗と蜷川実花、それでも捉われた「昭和の育児」の呪縛</div><div class=\"newsFeed_item_sub\"><div class=\"newsFeed_item_sourceWrap\"><time class=\"newsFeed_item_date\" datetime=\"datetime\">3/15(月)<!-- --> <!-- -->15:49</time></div></div></div></a></li>\n",
      "<li class=\"newsFeed_item newsFeed_item-movie\"><a class=\"newsFeed_item_link\" data-ylk=\"rsec:st_media;slk:article;pos:3\" href=\"https://news.yahoo.co.jp/articles/9c84797c769077f7ea837b60c0566996154bc393\"><div class=\"newsFeed_item_thumbnail\"><div class=\"sc-elJkPf gHapva thumbnail thumbnail-middle\"><img alt=\"\" class=\"sc-jtRfpW fqNeGA\" loading=\"lazy\" src=\"https://amd-pctr.c.yimg.jp/r/iwiz-amd/20210312-00010001-redchair-000-2-thumb.jpg?w=200&amp;h=133&amp;q=90&amp;exp=10800&amp;pri=l\"/><span class=\"sc-kTUwUJ iGrant\"><svg class=\"sc-gxMtzJ bKMivF\" fill=\"#fff\" height=\"11\" viewbox=\"0 0 48 48\" width=\"11\"><path d=\"M38.88 25.38c1.494-.76 1.494-2.001 0-2.761L10.715 8.299C9.222 7.54 8 8.277 8 9.935v28.133c0 1.658 1.222 2.393 2.715 1.633L38.88 25.38z\" fill-rule=\"evenodd\"></path></svg><span class=\"sc-dqBHgY lbVPIT\">28:02</span></span></div></div><div class=\"newsFeed_item_text\"><div class=\"newsFeed_item_title\">寄り添えるか、優しくできるか――綾野剛と常田大希が語るクリエイティブの「原点」</div><div class=\"newsFeed_item_sub\"><div class=\"newsFeed_item_sourceWrap\"><time class=\"newsFeed_item_date\" datetime=\"datetime\">3/12(金)<!-- --> <!-- -->12:14</time></div></div></div></a></li>\n",
      "<li class=\"newsFeed_item newsFeed_item-movie\"><a class=\"newsFeed_item_link\" data-ylk=\"rsec:st_media;slk:article;pos:4\" href=\"https://news.yahoo.co.jp/articles/acce2e42c7213e16cbae53e4b0f98e8855d658b4\"><div class=\"newsFeed_item_thumbnail\"><div class=\"sc-elJkPf gHapva thumbnail thumbnail-middle\"><img alt=\"\" class=\"sc-jtRfpW fqNeGA\" loading=\"lazy\" src=\"https://amd-pctr.c.yimg.jp/r/iwiz-amd/20210311-00010000-redchair-000-2-thumb.jpg?w=200&amp;h=133&amp;q=90&amp;exp=10800&amp;pri=l\"/><span class=\"sc-kTUwUJ iGrant\"><svg class=\"sc-gxMtzJ bKMivF\" fill=\"#fff\" height=\"11\" viewbox=\"0 0 48 48\" width=\"11\"><path d=\"M38.88 25.38c1.494-.76 1.494-2.001 0-2.761L10.715 8.299C9.222 7.54 8 8.277 8 9.935v28.133c0 1.658 1.222 2.393 2.715 1.633L38.88 25.38z\" fill-rule=\"evenodd\"></path></svg><span class=\"sc-dqBHgY lbVPIT\">27:30</span></span></div></div><div class=\"newsFeed_item_text\"><div class=\"newsFeed_item_title\">「日本人じゃない」と突きつけられた過去――水原希子、自分らしさとの葛藤の先に</div><div class=\"newsFeed_item_sub\"><div class=\"newsFeed_item_sourceWrap\"><time class=\"newsFeed_item_date\" datetime=\"datetime\">3/11(木)<!-- --> <!-- -->12:05</time></div></div></div></a></li>\n",
      "<li class=\"newsFeed_item newsFeed_item-movie\"><a class=\"newsFeed_item_link\" data-ylk=\"rsec:st_media;slk:article;pos:5\" href=\"https://news.yahoo.co.jp/articles/3bb8436277b3b6380f26102693d02c35dda13dbe\"><div class=\"newsFeed_item_thumbnail\"><div class=\"sc-elJkPf gHapva thumbnail thumbnail-middle\"><img alt=\"\" class=\"sc-jtRfpW fqNeGA\" loading=\"lazy\" src=\"https://amd-pctr.c.yimg.jp/r/iwiz-amd/20210310-00010000-redchair-000-2-thumb.jpg?w=200&amp;h=133&amp;q=90&amp;exp=10800&amp;pri=l\"/><span class=\"sc-kTUwUJ iGrant\"><svg class=\"sc-gxMtzJ bKMivF\" fill=\"#fff\" height=\"11\" viewbox=\"0 0 48 48\" width=\"11\"><path d=\"M38.88 25.38c1.494-.76 1.494-2.001 0-2.761L10.715 8.299C9.222 7.54 8 8.277 8 9.935v28.133c0 1.658 1.222 2.393 2.715 1.633L38.88 25.38z\" fill-rule=\"evenodd\"></path></svg><span class=\"sc-dqBHgY lbVPIT\">29:58</span></span></div></div><div class=\"newsFeed_item_text\"><div class=\"newsFeed_item_title\">「お金は社会に還元して死ぬ」――「暴走族」安藤忠雄79歳、規格外の人生</div><div class=\"newsFeed_item_sub\"><div class=\"newsFeed_item_sourceWrap\"><time class=\"newsFeed_item_date\" datetime=\"datetime\">3/10(水)<!-- --> <!-- -->12:02</time></div></div></div></a></li>\n",
      "<li class=\"newsFeed_item newsFeed_item-movie\"><a class=\"newsFeed_item_link\" data-ylk=\"rsec:st_media;slk:article;pos:6\" href=\"https://news.yahoo.co.jp/articles/81c20a519a9d42182ff118616849b16fa581014f\"><div class=\"newsFeed_item_thumbnail\"><div class=\"sc-elJkPf gHapva thumbnail thumbnail-middle\"><img alt=\"\" class=\"sc-jtRfpW fqNeGA\" loading=\"lazy\" src=\"https://amd-pctr.c.yimg.jp/r/iwiz-amd/20210309-00010000-redchair-000-2-thumb.jpg?w=200&amp;h=134&amp;q=90&amp;exp=10800&amp;pri=l\"/><span class=\"sc-kTUwUJ iGrant\"><svg class=\"sc-gxMtzJ bKMivF\" fill=\"#fff\" height=\"11\" viewbox=\"0 0 48 48\" width=\"11\"><path d=\"M38.88 25.38c1.494-.76 1.494-2.001 0-2.761L10.715 8.299C9.222 7.54 8 8.277 8 9.935v28.133c0 1.658 1.222 2.393 2.715 1.633L38.88 25.38z\" fill-rule=\"evenodd\"></path></svg><span class=\"sc-dqBHgY lbVPIT\">39:05</span></span></div></div><div class=\"newsFeed_item_text\"><div class=\"newsFeed_item_title\">「とんねるずは死にました」―戦力外通告された石橋貴明58歳、「新しい遊び場」で生き返るまで</div><div class=\"newsFeed_item_sub\"><div class=\"newsFeed_item_sourceWrap\"><time class=\"newsFeed_item_date\" datetime=\"datetime\">3/9(火)<!-- --> <!-- -->12:03</time></div></div></div></a></li>\n",
      "<li class=\"newsFeed_item newsFeed_item-movie\"><a class=\"newsFeed_item_link\" data-ylk=\"rsec:st_media;slk:article;pos:7\" href=\"https://news.yahoo.co.jp/articles/1a7d251319008b131e68a2211822a255b3f8628a\"><div class=\"newsFeed_item_thumbnail\"><div class=\"sc-elJkPf gHapva thumbnail thumbnail-middle\"><img alt=\"\" class=\"sc-jtRfpW fqNeGA\" loading=\"lazy\" src=\"https://amd-pctr.c.yimg.jp/r/iwiz-amd/20210308-00010000-redchair-000-3-thumb.jpg?w=200&amp;h=133&amp;q=90&amp;exp=10800&amp;pri=l\"/><span class=\"sc-kTUwUJ iGrant\"><svg class=\"sc-gxMtzJ bKMivF\" fill=\"#fff\" height=\"11\" viewbox=\"0 0 48 48\" width=\"11\"><path d=\"M38.88 25.38c1.494-.76 1.494-2.001 0-2.761L10.715 8.299C9.222 7.54 8 8.277 8 9.935v28.133c0 1.658 1.222 2.393 2.715 1.633L38.88 25.38z\" fill-rule=\"evenodd\"></path></svg><span class=\"sc-dqBHgY lbVPIT\">21:38</span></span></div></div><div class=\"newsFeed_item_text\"><div class=\"newsFeed_item_title\">「世間の声は気にしない」―山田孝之は「愛」のために生きていく</div><div class=\"newsFeed_item_sub\"><div class=\"newsFeed_item_sourceWrap\"><time class=\"newsFeed_item_date\" datetime=\"datetime\">3/8(月)<!-- --> <!-- -->12:02</time></div></div></div></a></li>\n",
      "<li class=\"newsFeed_item newsFeed_item-movie\"><a class=\"newsFeed_item_link\" data-ylk=\"rsec:st_media;slk:article;pos:8\" href=\"https://news.yahoo.co.jp/articles/baeb0b5299c57ad740acd18394c58295d1297647\"><div class=\"newsFeed_item_thumbnail\"><div class=\"sc-elJkPf gHapva thumbnail thumbnail-middle\"><img alt=\"\" class=\"sc-jtRfpW fqNeGA\" loading=\"lazy\" src=\"https://amd-pctr.c.yimg.jp/r/iwiz-amd/20210303-00010003-redchair-000-3-thumb.jpg?w=200&amp;h=132&amp;q=90&amp;exp=10800&amp;pri=l\"/><span class=\"sc-kTUwUJ iGrant\"><svg class=\"sc-gxMtzJ bKMivF\" fill=\"#fff\" height=\"11\" viewbox=\"0 0 48 48\" width=\"11\"><path d=\"M38.88 25.38c1.494-.76 1.494-2.001 0-2.761L10.715 8.299C9.222 7.54 8 8.277 8 9.935v28.133c0 1.658 1.222 2.393 2.715 1.633L38.88 25.38z\" fill-rule=\"evenodd\"></path></svg><span class=\"sc-dqBHgY lbVPIT\">19:16</span></span></div></div><div class=\"newsFeed_item_text\"><div class=\"newsFeed_item_title\">「理解に苦しむものはみんな化け物扱い」――闘い続ける“不死鳥”、美輪明宏の人生</div><div class=\"newsFeed_item_sub\"><div class=\"newsFeed_item_sourceWrap\"><time class=\"newsFeed_item_date\" datetime=\"datetime\">3/3(水)<!-- --> <!-- -->13:28</time></div></div></div></a></li>\n",
      "<li class=\"newsFeed_item newsFeed_item-movie\"><a class=\"newsFeed_item_link\" data-ylk=\"rsec:st_media;slk:article;pos:9\" href=\"https://news.yahoo.co.jp/articles/7c7dd8f54004c7605fd2f8cc84bb8d25b6eaec5b\"><div class=\"newsFeed_item_thumbnail\"><div class=\"sc-elJkPf gHapva thumbnail thumbnail-middle\"><img alt=\"\" class=\"sc-jtRfpW fqNeGA\" loading=\"lazy\" src=\"https://amd-pctr.c.yimg.jp/r/iwiz-amd/20210303-00010002-redchair-000-3-thumb.jpg?w=200&amp;h=133&amp;q=90&amp;exp=10800&amp;pri=l\"/><span class=\"sc-kTUwUJ iGrant\"><svg class=\"sc-gxMtzJ bKMivF\" fill=\"#fff\" height=\"11\" viewbox=\"0 0 48 48\" width=\"11\"><path d=\"M38.88 25.38c1.494-.76 1.494-2.001 0-2.761L10.715 8.299C9.222 7.54 8 8.277 8 9.935v28.133c0 1.658 1.222 2.393 2.715 1.633L38.88 25.38z\" fill-rule=\"evenodd\"></path></svg><span class=\"sc-dqBHgY lbVPIT\">26:39</span></span></div></div><div class=\"newsFeed_item_text\"><div class=\"newsFeed_item_title\">「『スラムダンク』なら神宗一郎」――エンゼルス大谷翔平、「謙虚過ぎる」25歳</div><div class=\"newsFeed_item_sub\"><div class=\"newsFeed_item_sourceWrap\"><time class=\"newsFeed_item_date\" datetime=\"datetime\">3/3(水)<!-- --> <!-- -->13:17</time></div></div></div></a></li>\n",
      "<li class=\"newsFeed_item\"><a class=\"newsFeed_item_link\" data-ylk=\"rsec:st_media;slk:article;pos:10\" href=\"https://news.yahoo.co.jp/articles/25b545d26da9edae4a6cd7f1db99f8da811203e4\"><div class=\"newsFeed_item_thumbnail\"><div class=\"sc-elJkPf kkHTpr thumbnail thumbnail-middle\"><img alt=\"\" class=\"sc-jtRfpW fqNeGA\" loading=\"lazy\" src=\"https://amd-pctr.c.yimg.jp/r/iwiz-amd/20210303-00010001-redchair-000-3-view.jpg?w=200&amp;h=200&amp;cx=287&amp;cy=0&amp;cw=1000&amp;ch=1000&amp;order=c2r&amp;q=90&amp;exp=10800&amp;pri=l\"/></div></div><div class=\"newsFeed_item_text\"><div class=\"newsFeed_item_title\">「人間が持っている能力を使い切るには、人生は短い」羽生善治はなぜ勝負を続けるのか</div><div class=\"newsFeed_item_sub\"><div class=\"newsFeed_item_sourceWrap\"><time class=\"newsFeed_item_date\" datetime=\"datetime\">3/3(水)<!-- --> <!-- -->13:16</time></div></div></div></a></li>\n",
      "<li class=\"newsFeed_item newsFeed_item-movie\"><a class=\"newsFeed_item_link\" data-ylk=\"rsec:st_media;slk:article;pos:11\" href=\"https://news.yahoo.co.jp/articles/f878cd3842ab04189804ab6be1236c7c018070c8\"><div class=\"newsFeed_item_thumbnail\"><div class=\"sc-elJkPf gHapva thumbnail thumbnail-middle\"><img alt=\"\" class=\"sc-jtRfpW fqNeGA\" loading=\"lazy\" src=\"https://amd-pctr.c.yimg.jp/r/iwiz-amd/20210303-00010000-redchair-000-3-thumb.jpg?w=200&amp;h=133&amp;q=90&amp;exp=10800&amp;pri=l\"/><span class=\"sc-kTUwUJ iGrant\"><svg class=\"sc-gxMtzJ bKMivF\" fill=\"#fff\" height=\"11\" viewbox=\"0 0 48 48\" width=\"11\"><path d=\"M38.88 25.38c1.494-.76 1.494-2.001 0-2.761L10.715 8.299C9.222 7.54 8 8.277 8 9.935v28.133c0 1.658 1.222 2.393 2.715 1.633L38.88 25.38z\" fill-rule=\"evenodd\"></path></svg><span class=\"sc-dqBHgY lbVPIT\">32:07</span></span></div></div><div class=\"newsFeed_item_text\"><div class=\"newsFeed_item_title\">「サッカー人生を通じて、世界を変える切符を手にした」本田圭佑32歳の目指す進化</div><div class=\"newsFeed_item_sub\"><div class=\"newsFeed_item_sourceWrap\"><time class=\"newsFeed_item_date\" datetime=\"datetime\">3/3(水)<!-- --> <!-- -->13:10</time></div></div></div></a></li>\n"
     ]
    }
   ],
   "source": [
    "import pandas as pd\n",
    "import requests\n",
    "from bs4 import BeautifulSoup\n",
    "import csv\n",
    "import time   # タイマーを使うため\n",
    "\n",
    "#ヤフー出稿メディア別のページ一覧を読み込み\n",
    "df = pd.read_csv('yahoo_rss_all_list_2021_04_01.csv')\n",
    "\n",
    "#保存先ファイルを開き\n",
    "fout = open(\"results.csv\", mode=\"a\", encoding=\"utf_8_sig\", newline='')\n",
    "# 列を決め、列名を書き出す\n",
    "writer = csv.DictWriter(fout, ['Media', 'Title', 'Pubdate', 'Link'])\n",
    "writer.writeheader()\n",
    "\n",
    "#スクレイピングの設定\n",
    "for index, row in df.iterrows():\n",
    "  url = row['url']\n",
    "  # エチケットとして3秒待つ\n",
    "  time.sleep(3)\n",
    "\n",
    "  html = requests.get( url )\n",
    "  soup = BeautifulSoup(html.text, 'html.parser' )\n",
    "  # 取得したデータの中にある、class=\"newsFeed_item\"が設定されている要素を抜き出す\n",
    "  for news in soup.find_all(class_='newsFeed_item'):\n",
    "    print(news)\n",
    "  # 試しに一回だけで終わる\n",
    "  break\n"
   ]
  },
  {
   "cell_type": "markdown",
   "metadata": {},
   "source": [
    "代表的なclass=\"newsFeed_item\"のタグは以下のような構造になっていることがわかる。\n",
    "\n",
    "記事のリンクはaタグのhref属性で、data-ylk属性に「pos:1」という興味深いデータがある。\n",
    "\n",
    "class=\"newsFeed_item_title\"のdivタグの中身はタイトル、class=\"newsFeed_item_date\"のtimeタグの中身が日時のようだ。"
   ]
  },
  {
   "cell_type": "code",
   "execution_count": null,
   "metadata": {},
   "outputs": [],
   "source": [
    "<li class=\"newsFeed_item newsFeed_item-movie\">\n",
    "\t<a class=\"newsFeed_item_link\" data-ylk=\"rsec:st_media;slk:article;pos:1\" href=\"https://news.yahoo.co.jp/articles/0dff7866d65be200fd7430c87688ed17b4f41165\">\n",
    "\t\n",
    "\t\t<div class=\"newsFeed_item_thumbnail\">\n",
    "\t\t\t<div class=\"sc-elJkPf gHapva thumbnail thumbnail-middle\">\n",
    "\t\t\t\t<img alt=\"\" class=\"sc-jtRfpW fqNeGA\" loading=\"lazy\" src=\"https://amd-pctr.c.yimg.jp/r/iwiz-amd/20210404-00010000-redchair-000-2-thumb.jpg?w=200&amp;h=133&amp;q=90&amp;exp=10800&amp;pri=l\"/>\n",
    "\t\t\t\t<span class=\"sc-kTUwUJ iGrant\">\n",
    "\t\t\t\t\t<svg class=\"sc-gxMtzJ bKMivF\" fill=\"#fff\" height=\"11\" viewbox=\"0 0 48 48\" width=\"11\">\n",
    "\t\t\t\t\t\t<path d=\"M38.88 25.38c1.494-.76 1.494-2.001 0-2.761L10.715 8.299C9.222 7.54 8 8.277 8 9.935v28.133c0 1.658 1.222 2.393 2.715 1.633L38.88 25.38z\" fill-rule=\"evenodd\"></path>\n",
    "\t\t\t\t\t</svg>\n",
    "\t\t\t\t\t<span class=\"sc-dqBHgY lbVPIT\">31:57</span>\n",
    "\t\t\t\t</span>\n",
    "\t\t\t</div>\n",
    "\t\t</div>\n",
    "\t\t<div class=\"newsFeed_item_text\">\n",
    "\t\t\t<div class=\"newsFeed_item_title\">僕、このまま終わるんじゃないですか――はじめしゃちょーの「ガチ相談」、佐藤二朗の回答は</div>\n",
    "\t\t\t<div class=\"newsFeed_item_sub\">\n",
    "\t\t\t\t<div class=\"newsFeed_item_sourceWrap\">\n",
    "\t\t\t\t\t<time class=\"newsFeed_item_date\" datetime=\"datetime\">4/4(日)<!-- --> <!-- -->16:21</time>\n",
    "\t\t\t\t</div>\n",
    "\t\t\t</div>\n",
    "\t\t</div>\n",
    "\t</a>\n",
    "</li>"
   ]
  },
  {
   "cell_type": "markdown",
   "metadata": {},
   "source": [
    "清書すると以下のようになる。\n",
    "\n",
    "（何度もトライ＆エラーした結果）"
   ]
  },
  {
   "cell_type": "code",
   "execution_count": 28,
   "metadata": {},
   "outputs": [],
   "source": [
    "import pandas as pd\n",
    "import requests\n",
    "from bs4 import BeautifulSoup\n",
    "import csv\n",
    "import time   # タイマーを使うため\n",
    "\n",
    "# 時間文字列をdatetime型変数に変換する関数\n",
    "import re\n",
    "def dateString2Datetime(_string):\n",
    "  cleaned_string = re.sub('\\([月火水木金土日]\\)', \"\", _string)\n",
    "  # 何度もエラーを起こして分かったことだが、\n",
    "  # 2020年の日付にはちゃんと2020/12/31と表示され、2021年の場合は年数が省略されるようだ\n",
    "  if cleaned_string.startswith(\"20\"):\n",
    "    # 西暦が省略されていない場合、多分20から始まる\n",
    "    return datetime.strptime(cleaned_string, \"%Y/%m/%d %H:%M\")\n",
    "  else:\n",
    "    # 2021年を冒頭に追加して変換する\n",
    "    return datetime.strptime(\"2021/\" + cleaned_string, \"%Y/%m/%d %H:%M\")\n",
    "# 同様に、data-ylk属性のposの次の数字を取得する関数\n",
    "def getPosNumber(_string):\n",
    "  first_cadidate = re.findall(r'pos:\\d+', _string)[0]\n",
    "  return int( first_cadidate.split(\":\")[1] )  \n",
    "\n",
    "#ヤフー出稿メディア別のページ一覧を読み込み\n",
    "df = pd.read_csv('yahoo_rss_all_list_2021_04_01.csv')\n",
    "\n",
    "#保存先ファイルを開き\n",
    "fout = open(\"results.csv\", mode=\"a\", encoding=\"utf_8_sig\", newline='')\n",
    "# 列を決め、列名を書き出す\n",
    "writer = csv.DictWriter(fout, ['Media', 'Title', 'Pubdate', 'Link', 'Pos'])\n",
    "writer.writeheader()\n",
    "\n",
    "#スクレイピングの設定\n",
    "for index, row in df.iterrows():\n",
    "  url = row['url']\n",
    "  # エチケットとして3秒待つ\n",
    "  time.sleep(3)\n",
    "  # 進行がわかるように\n",
    "  print(index)\n",
    "  html = requests.get( url )\n",
    "  soup = BeautifulSoup(html.text, 'html.parser' )\n",
    "  # 取得したデータの中にある、class=\"newsFeed_item\"が設定されている要素を抜き出す\n",
    "  for news in soup.find_all(class_='newsFeed_item'):\n",
    "    item = {}\n",
    "    item[\"Media\"] = row[\"media_online\"]\n",
    "    item[\"Title\"] = news.select_one('.newsFeed_item_title').text\n",
    "    item[\"Pubdate\"] = dateString2Datetime( news.select_one('.newsFeed_item_date').text )\n",
    "    item[\"Link\"] = news.a['href']\n",
    "    item[\"Pos\"] = getPosNumber( news.a['data-ylk'] )\n",
    "    writer.writerow(item)"
   ]
  },
  {
   "cell_type": "markdown",
   "metadata": {},
   "source": [
    "書き出されたファイルは以下のようになり、時間が綺麗に出力されていることがわかる。\n",
    "\n",
    "Media,Title,Pubdate,Link,Pos\n",
    "\n",
    "Yahoo!ニュース_オリジナル_RED_Chair,僕、このまま終わるんじゃないですか――はじめしゃちょーの「ガチ相談」、佐藤二朗の回答は,2021-04-04 16:21:00,https://news.yahoo.co.jp/articles/0dff7866d65be200fd7430c87688ed17b4f41165,1\n",
    "\n",
    "Yahoo!ニュース_オリジナル_RED_Chair,「ロールモデルがいない」三浦瑠麗と蜷川実花、それでも捉われた「昭和の育児」の呪縛,2021-03-15 15:49:00,https://news.yahoo.co.jp/articles/2fb15e5c12df914138044832fa56fb90903b8a89,2"
   ]
  },
  {
   "cell_type": "markdown",
   "metadata": {},
   "source": [
    "### データの分析"
   ]
  },
  {
   "cell_type": "code",
   "execution_count": 30,
   "metadata": {},
   "outputs": [
    {
     "data": {
      "text/html": [
       "<div>\n",
       "<style scoped>\n",
       "    .dataframe tbody tr th:only-of-type {\n",
       "        vertical-align: middle;\n",
       "    }\n",
       "\n",
       "    .dataframe tbody tr th {\n",
       "        vertical-align: top;\n",
       "    }\n",
       "\n",
       "    .dataframe thead th {\n",
       "        text-align: right;\n",
       "    }\n",
       "</style>\n",
       "<table border=\"1\" class=\"dataframe\">\n",
       "  <thead>\n",
       "    <tr style=\"text-align: right;\">\n",
       "      <th></th>\n",
       "      <th>Media</th>\n",
       "      <th>Title</th>\n",
       "      <th>Pubdate</th>\n",
       "      <th>Link</th>\n",
       "      <th>Pos</th>\n",
       "    </tr>\n",
       "  </thead>\n",
       "  <tbody>\n",
       "    <tr>\n",
       "      <td>0</td>\n",
       "      <td>Yahoo!ニュース_オリジナル_RED_Chair</td>\n",
       "      <td>僕、このまま終わるんじゃないですか――はじめしゃちょーの「ガチ相談」、佐藤二朗の回答は</td>\n",
       "      <td>2021-04-04 16:21:00</td>\n",
       "      <td>https://news.yahoo.co.jp/articles/0dff7866d65b...</td>\n",
       "      <td>1</td>\n",
       "    </tr>\n",
       "    <tr>\n",
       "      <td>1</td>\n",
       "      <td>Yahoo!ニュース_オリジナル_RED_Chair</td>\n",
       "      <td>「ロールモデルがいない」三浦瑠麗と蜷川実花、それでも捉われた「昭和の育児」の呪縛</td>\n",
       "      <td>2021-03-15 15:49:00</td>\n",
       "      <td>https://news.yahoo.co.jp/articles/2fb15e5c12df...</td>\n",
       "      <td>2</td>\n",
       "    </tr>\n",
       "    <tr>\n",
       "      <td>2</td>\n",
       "      <td>Yahoo!ニュース_オリジナル_RED_Chair</td>\n",
       "      <td>寄り添えるか、優しくできるか――綾野剛と常田大希が語るクリエイティブの「原点」</td>\n",
       "      <td>2021-03-12 12:14:00</td>\n",
       "      <td>https://news.yahoo.co.jp/articles/9c84797c7690...</td>\n",
       "      <td>3</td>\n",
       "    </tr>\n",
       "    <tr>\n",
       "      <td>3</td>\n",
       "      <td>Yahoo!ニュース_オリジナル_RED_Chair</td>\n",
       "      <td>「日本人じゃない」と突きつけられた過去――水原希子、自分らしさとの葛藤の先に</td>\n",
       "      <td>2021-03-11 12:05:00</td>\n",
       "      <td>https://news.yahoo.co.jp/articles/acce2e42c721...</td>\n",
       "      <td>4</td>\n",
       "    </tr>\n",
       "    <tr>\n",
       "      <td>4</td>\n",
       "      <td>Yahoo!ニュース_オリジナル_RED_Chair</td>\n",
       "      <td>「お金は社会に還元して死ぬ」――「暴走族」安藤忠雄79歳、規格外の人生</td>\n",
       "      <td>2021-03-10 12:02:00</td>\n",
       "      <td>https://news.yahoo.co.jp/articles/3bb8436277b3...</td>\n",
       "      <td>5</td>\n",
       "    </tr>\n",
       "    <tr>\n",
       "      <td>...</td>\n",
       "      <td>...</td>\n",
       "      <td>...</td>\n",
       "      <td>...</td>\n",
       "      <td>...</td>\n",
       "      <td>...</td>\n",
       "    </tr>\n",
       "    <tr>\n",
       "      <td>14740</td>\n",
       "      <td>Yahoo!_JAPAN_リオオリンピック特集</td>\n",
       "      <td>車いすテニス男子複で日本人対決　15日夜～16日朝の注目戦</td>\n",
       "      <td>2016-09-15 14:14:00</td>\n",
       "      <td>https://news.yahoo.co.jp/articles/a3ef8de46eb9...</td>\n",
       "      <td>11</td>\n",
       "    </tr>\n",
       "    <tr>\n",
       "      <td>14741</td>\n",
       "      <td>Yahoo!_JAPAN_リオオリンピック特集</td>\n",
       "      <td>「ありがとう」金メダリストが家族や仲間、競技に示した瞬間</td>\n",
       "      <td>2016-09-15 12:21:00</td>\n",
       "      <td>https://news.yahoo.co.jp/articles/c4022917d14e...</td>\n",
       "      <td>12</td>\n",
       "    </tr>\n",
       "    <tr>\n",
       "      <td>14742</td>\n",
       "      <td>Yahoo!_JAPAN_リオオリンピック特集</td>\n",
       "      <td>パラならではのオシャレを発見　こだわりのアイマスクや義肢</td>\n",
       "      <td>2016-09-15 11:34:00</td>\n",
       "      <td>https://news.yahoo.co.jp/articles/3e4b476057af...</td>\n",
       "      <td>13</td>\n",
       "    </tr>\n",
       "    <tr>\n",
       "      <td>14743</td>\n",
       "      <td>Yahoo!_JAPAN_リオオリンピック特集</td>\n",
       "      <td>リオパラ五輪で見つけた、タトゥーがオシャレな選手たち</td>\n",
       "      <td>2016-09-15 10:45:00</td>\n",
       "      <td>https://news.yahoo.co.jp/articles/3d8f16bdb3d6...</td>\n",
       "      <td>14</td>\n",
       "    </tr>\n",
       "    <tr>\n",
       "      <td>14744</td>\n",
       "      <td>Yahoo!_JAPAN_リオオリンピック特集</td>\n",
       "      <td>健常者の金メダル記録を4人が超えた　パラ陸上男子1500m（視覚障害）</td>\n",
       "      <td>2016-09-14 16:05:00</td>\n",
       "      <td>https://news.yahoo.co.jp/articles/9de73039c612...</td>\n",
       "      <td>15</td>\n",
       "    </tr>\n",
       "  </tbody>\n",
       "</table>\n",
       "<p>14745 rows × 5 columns</p>\n",
       "</div>"
      ],
      "text/plain": [
       "                            Media  \\\n",
       "0      Yahoo!ニュース_オリジナル_RED_Chair   \n",
       "1      Yahoo!ニュース_オリジナル_RED_Chair   \n",
       "2      Yahoo!ニュース_オリジナル_RED_Chair   \n",
       "3      Yahoo!ニュース_オリジナル_RED_Chair   \n",
       "4      Yahoo!ニュース_オリジナル_RED_Chair   \n",
       "...                           ...   \n",
       "14740     Yahoo!_JAPAN_リオオリンピック特集   \n",
       "14741     Yahoo!_JAPAN_リオオリンピック特集   \n",
       "14742     Yahoo!_JAPAN_リオオリンピック特集   \n",
       "14743     Yahoo!_JAPAN_リオオリンピック特集   \n",
       "14744     Yahoo!_JAPAN_リオオリンピック特集   \n",
       "\n",
       "                                             Title              Pubdate  \\\n",
       "0      僕、このまま終わるんじゃないですか――はじめしゃちょーの「ガチ相談」、佐藤二朗の回答は  2021-04-04 16:21:00   \n",
       "1         「ロールモデルがいない」三浦瑠麗と蜷川実花、それでも捉われた「昭和の育児」の呪縛  2021-03-15 15:49:00   \n",
       "2          寄り添えるか、優しくできるか――綾野剛と常田大希が語るクリエイティブの「原点」  2021-03-12 12:14:00   \n",
       "3           「日本人じゃない」と突きつけられた過去――水原希子、自分らしさとの葛藤の先に  2021-03-11 12:05:00   \n",
       "4              「お金は社会に還元して死ぬ」――「暴走族」安藤忠雄79歳、規格外の人生  2021-03-10 12:02:00   \n",
       "...                                            ...                  ...   \n",
       "14740                車いすテニス男子複で日本人対決　15日夜～16日朝の注目戦  2016-09-15 14:14:00   \n",
       "14741                 「ありがとう」金メダリストが家族や仲間、競技に示した瞬間  2016-09-15 12:21:00   \n",
       "14742                 パラならではのオシャレを発見　こだわりのアイマスクや義肢  2016-09-15 11:34:00   \n",
       "14743                   リオパラ五輪で見つけた、タトゥーがオシャレな選手たち  2016-09-15 10:45:00   \n",
       "14744          健常者の金メダル記録を4人が超えた　パラ陸上男子1500m（視覚障害）  2016-09-14 16:05:00   \n",
       "\n",
       "                                                    Link  Pos  \n",
       "0      https://news.yahoo.co.jp/articles/0dff7866d65b...    1  \n",
       "1      https://news.yahoo.co.jp/articles/2fb15e5c12df...    2  \n",
       "2      https://news.yahoo.co.jp/articles/9c84797c7690...    3  \n",
       "3      https://news.yahoo.co.jp/articles/acce2e42c721...    4  \n",
       "4      https://news.yahoo.co.jp/articles/3bb8436277b3...    5  \n",
       "...                                                  ...  ...  \n",
       "14740  https://news.yahoo.co.jp/articles/a3ef8de46eb9...   11  \n",
       "14741  https://news.yahoo.co.jp/articles/c4022917d14e...   12  \n",
       "14742  https://news.yahoo.co.jp/articles/3e4b476057af...   13  \n",
       "14743  https://news.yahoo.co.jp/articles/3d8f16bdb3d6...   14  \n",
       "14744  https://news.yahoo.co.jp/articles/9de73039c612...   15  \n",
       "\n",
       "[14745 rows x 5 columns]"
      ]
     },
     "execution_count": 30,
     "metadata": {},
     "output_type": "execute_result"
    }
   ],
   "source": [
    "df = pd.read_csv('results.csv')\n",
    "df"
   ]
  },
  {
   "cell_type": "code",
   "execution_count": 39,
   "metadata": {},
   "outputs": [
    {
     "data": {
      "text/html": [
       "<div>\n",
       "<style scoped>\n",
       "    .dataframe tbody tr th:only-of-type {\n",
       "        vertical-align: middle;\n",
       "    }\n",
       "\n",
       "    .dataframe tbody tr th {\n",
       "        vertical-align: top;\n",
       "    }\n",
       "\n",
       "    .dataframe thead tr th {\n",
       "        text-align: left;\n",
       "    }\n",
       "\n",
       "    .dataframe thead tr:last-of-type th {\n",
       "        text-align: right;\n",
       "    }\n",
       "</style>\n",
       "<table border=\"1\" class=\"dataframe\">\n",
       "  <thead>\n",
       "    <tr>\n",
       "      <th></th>\n",
       "      <th colspan=\"2\" halign=\"left\">Pos</th>\n",
       "    </tr>\n",
       "    <tr>\n",
       "      <th></th>\n",
       "      <th>count</th>\n",
       "      <th>mean</th>\n",
       "    </tr>\n",
       "    <tr>\n",
       "      <th>Media</th>\n",
       "      <th></th>\n",
       "      <th></th>\n",
       "    </tr>\n",
       "  </thead>\n",
       "  <tbody>\n",
       "    <tr>\n",
       "      <td>2.5ジゲン！！</td>\n",
       "      <td>19</td>\n",
       "      <td>10.0</td>\n",
       "    </tr>\n",
       "    <tr>\n",
       "      <td>25ansウエディング</td>\n",
       "      <td>25</td>\n",
       "      <td>13.0</td>\n",
       "    </tr>\n",
       "    <tr>\n",
       "      <td>25ansオンライン</td>\n",
       "      <td>25</td>\n",
       "      <td>13.0</td>\n",
       "    </tr>\n",
       "    <tr>\n",
       "      <td>36Kr_Japan</td>\n",
       "      <td>25</td>\n",
       "      <td>13.0</td>\n",
       "    </tr>\n",
       "    <tr>\n",
       "      <td>47NEWS</td>\n",
       "      <td>25</td>\n",
       "      <td>13.0</td>\n",
       "    </tr>\n",
       "    <tr>\n",
       "      <td>...</td>\n",
       "      <td>...</td>\n",
       "      <td>...</td>\n",
       "    </tr>\n",
       "    <tr>\n",
       "      <td>ＮＳＴ新潟総合テレビ</td>\n",
       "      <td>25</td>\n",
       "      <td>13.0</td>\n",
       "    </tr>\n",
       "    <tr>\n",
       "      <td>ＯＡＢ大分朝日放送</td>\n",
       "      <td>4</td>\n",
       "      <td>2.5</td>\n",
       "    </tr>\n",
       "    <tr>\n",
       "      <td>ＰＨＰファミリー</td>\n",
       "      <td>8</td>\n",
       "      <td>4.5</td>\n",
       "    </tr>\n",
       "    <tr>\n",
       "      <td>ＳＢＣ信越放送</td>\n",
       "      <td>25</td>\n",
       "      <td>13.0</td>\n",
       "    </tr>\n",
       "    <tr>\n",
       "      <td>ｔｙｓテレビ山口</td>\n",
       "      <td>20</td>\n",
       "      <td>10.5</td>\n",
       "    </tr>\n",
       "  </tbody>\n",
       "</table>\n",
       "<p>631 rows × 2 columns</p>\n",
       "</div>"
      ],
      "text/plain": [
       "              Pos      \n",
       "            count  mean\n",
       "Media                  \n",
       "2.5ジゲン！！       19  10.0\n",
       "25ansウエディング    25  13.0\n",
       "25ansオンライン     25  13.0\n",
       "36Kr_Japan     25  13.0\n",
       "47NEWS         25  13.0\n",
       "...           ...   ...\n",
       "ＮＳＴ新潟総合テレビ     25  13.0\n",
       "ＯＡＢ大分朝日放送       4   2.5\n",
       "ＰＨＰファミリー        8   4.5\n",
       "ＳＢＣ信越放送        25  13.0\n",
       "ｔｙｓテレビ山口       20  10.5\n",
       "\n",
       "[631 rows x 2 columns]"
      ]
     },
     "execution_count": 39,
     "metadata": {},
     "output_type": "execute_result"
    }
   ],
   "source": [
    "df.groupby(\"Media\").agg(['count','mean'])"
   ]
  },
  {
   "cell_type": "code",
   "execution_count": 31,
   "metadata": {},
   "outputs": [
    {
     "data": {
      "text/plain": [
       "'https://vega.github.io/vega-datasets/data/movies.json'"
      ]
     },
     "execution_count": 31,
     "metadata": {},
     "output_type": "execute_result"
    }
   ],
   "source": [
    "import altair as alt\n",
    "from vega_datasets import data\n",
    "\n",
    "alt.Chart(df).mark_bar().encode(\n",
    "    alt.X(\"IMDB_Rating:Q\", bin=True),\n",
    "    y='count()',\n",
    ")"
   ]
  },
  {
   "cell_type": "code",
   "execution_count": 34,
   "metadata": {},
   "outputs": [
    {
     "ename": "MaxRowsError",
     "evalue": "The number of rows in your dataset is greater than the maximum allowed (5000). For information on how to plot larger datasets in Altair, see the documentation",
     "output_type": "error",
     "traceback": [
      "\u001b[0;31m---------------------------------------------------------------------------\u001b[0m",
      "\u001b[0;31mMaxRowsError\u001b[0m                              Traceback (most recent call last)",
      "\u001b[0;32m/opt/anaconda3/lib/python3.7/site-packages/altair/vegalite/v4/api.py\u001b[0m in \u001b[0;36mto_dict\u001b[0;34m(self, *args, **kwargs)\u001b[0m\n\u001b[1;32m    361\u001b[0m         \u001b[0mcopy\u001b[0m \u001b[0;34m=\u001b[0m \u001b[0mself\u001b[0m\u001b[0;34m.\u001b[0m\u001b[0mcopy\u001b[0m\u001b[0;34m(\u001b[0m\u001b[0mdeep\u001b[0m\u001b[0;34m=\u001b[0m\u001b[0;32mFalse\u001b[0m\u001b[0;34m)\u001b[0m\u001b[0;34m\u001b[0m\u001b[0;34m\u001b[0m\u001b[0m\n\u001b[1;32m    362\u001b[0m         \u001b[0moriginal_data\u001b[0m \u001b[0;34m=\u001b[0m \u001b[0mgetattr\u001b[0m\u001b[0;34m(\u001b[0m\u001b[0mcopy\u001b[0m\u001b[0;34m,\u001b[0m \u001b[0;34m\"data\"\u001b[0m\u001b[0;34m,\u001b[0m \u001b[0mUndefined\u001b[0m\u001b[0;34m)\u001b[0m\u001b[0;34m\u001b[0m\u001b[0;34m\u001b[0m\u001b[0m\n\u001b[0;32m--> 363\u001b[0;31m         \u001b[0mcopy\u001b[0m\u001b[0;34m.\u001b[0m\u001b[0mdata\u001b[0m \u001b[0;34m=\u001b[0m \u001b[0m_prepare_data\u001b[0m\u001b[0;34m(\u001b[0m\u001b[0moriginal_data\u001b[0m\u001b[0;34m,\u001b[0m \u001b[0mcontext\u001b[0m\u001b[0;34m)\u001b[0m\u001b[0;34m\u001b[0m\u001b[0;34m\u001b[0m\u001b[0m\n\u001b[0m\u001b[1;32m    364\u001b[0m \u001b[0;34m\u001b[0m\u001b[0m\n\u001b[1;32m    365\u001b[0m         \u001b[0;32mif\u001b[0m \u001b[0moriginal_data\u001b[0m \u001b[0;32mis\u001b[0m \u001b[0;32mnot\u001b[0m \u001b[0mUndefined\u001b[0m\u001b[0;34m:\u001b[0m\u001b[0;34m\u001b[0m\u001b[0;34m\u001b[0m\u001b[0m\n",
      "\u001b[0;32m/opt/anaconda3/lib/python3.7/site-packages/altair/vegalite/v4/api.py\u001b[0m in \u001b[0;36m_prepare_data\u001b[0;34m(data, context)\u001b[0m\n\u001b[1;32m     82\u001b[0m     \u001b[0;31m# convert dataframes  or objects with __geo_interface__ to dict\u001b[0m\u001b[0;34m\u001b[0m\u001b[0;34m\u001b[0m\u001b[0;34m\u001b[0m\u001b[0m\n\u001b[1;32m     83\u001b[0m     \u001b[0;32mif\u001b[0m \u001b[0misinstance\u001b[0m\u001b[0;34m(\u001b[0m\u001b[0mdata\u001b[0m\u001b[0;34m,\u001b[0m \u001b[0mpd\u001b[0m\u001b[0;34m.\u001b[0m\u001b[0mDataFrame\u001b[0m\u001b[0;34m)\u001b[0m \u001b[0;32mor\u001b[0m \u001b[0mhasattr\u001b[0m\u001b[0;34m(\u001b[0m\u001b[0mdata\u001b[0m\u001b[0;34m,\u001b[0m \u001b[0;34m\"__geo_interface__\"\u001b[0m\u001b[0;34m)\u001b[0m\u001b[0;34m:\u001b[0m\u001b[0;34m\u001b[0m\u001b[0;34m\u001b[0m\u001b[0m\n\u001b[0;32m---> 84\u001b[0;31m         \u001b[0mdata\u001b[0m \u001b[0;34m=\u001b[0m \u001b[0m_pipe\u001b[0m\u001b[0;34m(\u001b[0m\u001b[0mdata\u001b[0m\u001b[0;34m,\u001b[0m \u001b[0mdata_transformers\u001b[0m\u001b[0;34m.\u001b[0m\u001b[0mget\u001b[0m\u001b[0;34m(\u001b[0m\u001b[0;34m)\u001b[0m\u001b[0;34m)\u001b[0m\u001b[0;34m\u001b[0m\u001b[0;34m\u001b[0m\u001b[0m\n\u001b[0m\u001b[1;32m     85\u001b[0m \u001b[0;34m\u001b[0m\u001b[0m\n\u001b[1;32m     86\u001b[0m     \u001b[0;31m# convert string input to a URLData\u001b[0m\u001b[0;34m\u001b[0m\u001b[0;34m\u001b[0m\u001b[0;34m\u001b[0m\u001b[0m\n",
      "\u001b[0;32m/opt/anaconda3/lib/python3.7/site-packages/toolz/functoolz.py\u001b[0m in \u001b[0;36mpipe\u001b[0;34m(data, *funcs)\u001b[0m\n\u001b[1;32m    632\u001b[0m     \"\"\"\n\u001b[1;32m    633\u001b[0m     \u001b[0;32mfor\u001b[0m \u001b[0mfunc\u001b[0m \u001b[0;32min\u001b[0m \u001b[0mfuncs\u001b[0m\u001b[0;34m:\u001b[0m\u001b[0;34m\u001b[0m\u001b[0;34m\u001b[0m\u001b[0m\n\u001b[0;32m--> 634\u001b[0;31m         \u001b[0mdata\u001b[0m \u001b[0;34m=\u001b[0m \u001b[0mfunc\u001b[0m\u001b[0;34m(\u001b[0m\u001b[0mdata\u001b[0m\u001b[0;34m)\u001b[0m\u001b[0;34m\u001b[0m\u001b[0;34m\u001b[0m\u001b[0m\n\u001b[0m\u001b[1;32m    635\u001b[0m     \u001b[0;32mreturn\u001b[0m \u001b[0mdata\u001b[0m\u001b[0;34m\u001b[0m\u001b[0;34m\u001b[0m\u001b[0m\n\u001b[1;32m    636\u001b[0m \u001b[0;34m\u001b[0m\u001b[0m\n",
      "\u001b[0;32m/opt/anaconda3/lib/python3.7/site-packages/toolz/functoolz.py\u001b[0m in \u001b[0;36m__call__\u001b[0;34m(self, *args, **kwargs)\u001b[0m\n\u001b[1;32m    301\u001b[0m     \u001b[0;32mdef\u001b[0m \u001b[0m__call__\u001b[0m\u001b[0;34m(\u001b[0m\u001b[0mself\u001b[0m\u001b[0;34m,\u001b[0m \u001b[0;34m*\u001b[0m\u001b[0margs\u001b[0m\u001b[0;34m,\u001b[0m \u001b[0;34m**\u001b[0m\u001b[0mkwargs\u001b[0m\u001b[0;34m)\u001b[0m\u001b[0;34m:\u001b[0m\u001b[0;34m\u001b[0m\u001b[0;34m\u001b[0m\u001b[0m\n\u001b[1;32m    302\u001b[0m         \u001b[0;32mtry\u001b[0m\u001b[0;34m:\u001b[0m\u001b[0;34m\u001b[0m\u001b[0;34m\u001b[0m\u001b[0m\n\u001b[0;32m--> 303\u001b[0;31m             \u001b[0;32mreturn\u001b[0m \u001b[0mself\u001b[0m\u001b[0;34m.\u001b[0m\u001b[0m_partial\u001b[0m\u001b[0;34m(\u001b[0m\u001b[0;34m*\u001b[0m\u001b[0margs\u001b[0m\u001b[0;34m,\u001b[0m \u001b[0;34m**\u001b[0m\u001b[0mkwargs\u001b[0m\u001b[0;34m)\u001b[0m\u001b[0;34m\u001b[0m\u001b[0;34m\u001b[0m\u001b[0m\n\u001b[0m\u001b[1;32m    304\u001b[0m         \u001b[0;32mexcept\u001b[0m \u001b[0mTypeError\u001b[0m \u001b[0;32mas\u001b[0m \u001b[0mexc\u001b[0m\u001b[0;34m:\u001b[0m\u001b[0;34m\u001b[0m\u001b[0;34m\u001b[0m\u001b[0m\n\u001b[1;32m    305\u001b[0m             \u001b[0;32mif\u001b[0m \u001b[0mself\u001b[0m\u001b[0;34m.\u001b[0m\u001b[0m_should_curry\u001b[0m\u001b[0;34m(\u001b[0m\u001b[0margs\u001b[0m\u001b[0;34m,\u001b[0m \u001b[0mkwargs\u001b[0m\u001b[0;34m,\u001b[0m \u001b[0mexc\u001b[0m\u001b[0;34m)\u001b[0m\u001b[0;34m:\u001b[0m\u001b[0;34m\u001b[0m\u001b[0;34m\u001b[0m\u001b[0m\n",
      "\u001b[0;32m/opt/anaconda3/lib/python3.7/site-packages/altair/vegalite/data.py\u001b[0m in \u001b[0;36mdefault_data_transformer\u001b[0;34m(data, max_rows)\u001b[0m\n\u001b[1;32m     17\u001b[0m \u001b[0;34m@\u001b[0m\u001b[0mcurried\u001b[0m\u001b[0;34m.\u001b[0m\u001b[0mcurry\u001b[0m\u001b[0;34m\u001b[0m\u001b[0;34m\u001b[0m\u001b[0m\n\u001b[1;32m     18\u001b[0m \u001b[0;32mdef\u001b[0m \u001b[0mdefault_data_transformer\u001b[0m\u001b[0;34m(\u001b[0m\u001b[0mdata\u001b[0m\u001b[0;34m,\u001b[0m \u001b[0mmax_rows\u001b[0m\u001b[0;34m=\u001b[0m\u001b[0;36m5000\u001b[0m\u001b[0;34m)\u001b[0m\u001b[0;34m:\u001b[0m\u001b[0;34m\u001b[0m\u001b[0;34m\u001b[0m\u001b[0m\n\u001b[0;32m---> 19\u001b[0;31m     \u001b[0;32mreturn\u001b[0m \u001b[0mcurried\u001b[0m\u001b[0;34m.\u001b[0m\u001b[0mpipe\u001b[0m\u001b[0;34m(\u001b[0m\u001b[0mdata\u001b[0m\u001b[0;34m,\u001b[0m \u001b[0mlimit_rows\u001b[0m\u001b[0;34m(\u001b[0m\u001b[0mmax_rows\u001b[0m\u001b[0;34m=\u001b[0m\u001b[0mmax_rows\u001b[0m\u001b[0;34m)\u001b[0m\u001b[0;34m,\u001b[0m \u001b[0mto_values\u001b[0m\u001b[0;34m)\u001b[0m\u001b[0;34m\u001b[0m\u001b[0;34m\u001b[0m\u001b[0m\n\u001b[0m\u001b[1;32m     20\u001b[0m \u001b[0;34m\u001b[0m\u001b[0m\n\u001b[1;32m     21\u001b[0m \u001b[0;34m\u001b[0m\u001b[0m\n",
      "\u001b[0;32m/opt/anaconda3/lib/python3.7/site-packages/toolz/functoolz.py\u001b[0m in \u001b[0;36mpipe\u001b[0;34m(data, *funcs)\u001b[0m\n\u001b[1;32m    632\u001b[0m     \"\"\"\n\u001b[1;32m    633\u001b[0m     \u001b[0;32mfor\u001b[0m \u001b[0mfunc\u001b[0m \u001b[0;32min\u001b[0m \u001b[0mfuncs\u001b[0m\u001b[0;34m:\u001b[0m\u001b[0;34m\u001b[0m\u001b[0;34m\u001b[0m\u001b[0m\n\u001b[0;32m--> 634\u001b[0;31m         \u001b[0mdata\u001b[0m \u001b[0;34m=\u001b[0m \u001b[0mfunc\u001b[0m\u001b[0;34m(\u001b[0m\u001b[0mdata\u001b[0m\u001b[0;34m)\u001b[0m\u001b[0;34m\u001b[0m\u001b[0;34m\u001b[0m\u001b[0m\n\u001b[0m\u001b[1;32m    635\u001b[0m     \u001b[0;32mreturn\u001b[0m \u001b[0mdata\u001b[0m\u001b[0;34m\u001b[0m\u001b[0;34m\u001b[0m\u001b[0m\n\u001b[1;32m    636\u001b[0m \u001b[0;34m\u001b[0m\u001b[0m\n",
      "\u001b[0;32m/opt/anaconda3/lib/python3.7/site-packages/toolz/functoolz.py\u001b[0m in \u001b[0;36m__call__\u001b[0;34m(self, *args, **kwargs)\u001b[0m\n\u001b[1;32m    301\u001b[0m     \u001b[0;32mdef\u001b[0m \u001b[0m__call__\u001b[0m\u001b[0;34m(\u001b[0m\u001b[0mself\u001b[0m\u001b[0;34m,\u001b[0m \u001b[0;34m*\u001b[0m\u001b[0margs\u001b[0m\u001b[0;34m,\u001b[0m \u001b[0;34m**\u001b[0m\u001b[0mkwargs\u001b[0m\u001b[0;34m)\u001b[0m\u001b[0;34m:\u001b[0m\u001b[0;34m\u001b[0m\u001b[0;34m\u001b[0m\u001b[0m\n\u001b[1;32m    302\u001b[0m         \u001b[0;32mtry\u001b[0m\u001b[0;34m:\u001b[0m\u001b[0;34m\u001b[0m\u001b[0;34m\u001b[0m\u001b[0m\n\u001b[0;32m--> 303\u001b[0;31m             \u001b[0;32mreturn\u001b[0m \u001b[0mself\u001b[0m\u001b[0;34m.\u001b[0m\u001b[0m_partial\u001b[0m\u001b[0;34m(\u001b[0m\u001b[0;34m*\u001b[0m\u001b[0margs\u001b[0m\u001b[0;34m,\u001b[0m \u001b[0;34m**\u001b[0m\u001b[0mkwargs\u001b[0m\u001b[0;34m)\u001b[0m\u001b[0;34m\u001b[0m\u001b[0;34m\u001b[0m\u001b[0m\n\u001b[0m\u001b[1;32m    304\u001b[0m         \u001b[0;32mexcept\u001b[0m \u001b[0mTypeError\u001b[0m \u001b[0;32mas\u001b[0m \u001b[0mexc\u001b[0m\u001b[0;34m:\u001b[0m\u001b[0;34m\u001b[0m\u001b[0;34m\u001b[0m\u001b[0m\n\u001b[1;32m    305\u001b[0m             \u001b[0;32mif\u001b[0m \u001b[0mself\u001b[0m\u001b[0;34m.\u001b[0m\u001b[0m_should_curry\u001b[0m\u001b[0;34m(\u001b[0m\u001b[0margs\u001b[0m\u001b[0;34m,\u001b[0m \u001b[0mkwargs\u001b[0m\u001b[0;34m,\u001b[0m \u001b[0mexc\u001b[0m\u001b[0;34m)\u001b[0m\u001b[0;34m:\u001b[0m\u001b[0;34m\u001b[0m\u001b[0;34m\u001b[0m\u001b[0m\n",
      "\u001b[0;32m/opt/anaconda3/lib/python3.7/site-packages/altair/utils/data.py\u001b[0m in \u001b[0;36mlimit_rows\u001b[0;34m(data, max_rows)\u001b[0m\n\u001b[1;32m     82\u001b[0m             \u001b[0;34m\"than the maximum allowed ({}). \"\u001b[0m\u001b[0;34m\u001b[0m\u001b[0;34m\u001b[0m\u001b[0m\n\u001b[1;32m     83\u001b[0m             \u001b[0;34m\"For information on how to plot larger datasets \"\u001b[0m\u001b[0;34m\u001b[0m\u001b[0;34m\u001b[0m\u001b[0m\n\u001b[0;32m---> 84\u001b[0;31m             \u001b[0;34m\"in Altair, see the documentation\"\u001b[0m\u001b[0;34m.\u001b[0m\u001b[0mformat\u001b[0m\u001b[0;34m(\u001b[0m\u001b[0mmax_rows\u001b[0m\u001b[0;34m)\u001b[0m\u001b[0;34m\u001b[0m\u001b[0;34m\u001b[0m\u001b[0m\n\u001b[0m\u001b[1;32m     85\u001b[0m         )\n\u001b[1;32m     86\u001b[0m     \u001b[0;32mreturn\u001b[0m \u001b[0mdata\u001b[0m\u001b[0;34m\u001b[0m\u001b[0;34m\u001b[0m\u001b[0m\n",
      "\u001b[0;31mMaxRowsError\u001b[0m: The number of rows in your dataset is greater than the maximum allowed (5000). For information on how to plot larger datasets in Altair, see the documentation"
     ]
    },
    {
     "data": {
      "text/plain": [
       "alt.Chart(...)"
      ]
     },
     "execution_count": 34,
     "metadata": {},
     "output_type": "execute_result"
    }
   ],
   "source": []
  },
  {
   "cell_type": "code",
   "execution_count": null,
   "metadata": {},
   "outputs": [],
   "source": []
  }
 ],
 "metadata": {
  "kernelspec": {
   "display_name": "Python 3",
   "language": "python",
   "name": "python3"
  },
  "language_info": {
   "codemirror_mode": {
    "name": "ipython",
    "version": 3
   },
   "file_extension": ".py",
   "mimetype": "text/x-python",
   "name": "python",
   "nbconvert_exporter": "python",
   "pygments_lexer": "ipython3",
   "version": "3.7.4"
  }
 },
 "nbformat": 4,
 "nbformat_minor": 2
}
