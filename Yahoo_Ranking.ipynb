{
  "nbformat": 4,
  "nbformat_minor": 0,
  "metadata": {
    "colab": {
      "name": "Yahoo_Ranking.ipynb",
      "provenance": [],
      "collapsed_sections": [],
      "authorship_tag": "ABX9TyMZ7Jj8bK3ZwKpeoJMA1tXz",
      "include_colab_link": true
    },
    "kernelspec": {
      "name": "python3",
      "display_name": "Python 3"
    },
    "language_info": {
      "name": "python"
    }
  },
  "cells": [
    {
      "cell_type": "markdown",
      "metadata": {
        "id": "view-in-github",
        "colab_type": "text"
      },
      "source": [
        "<a href=\"https://colab.research.google.com/github/skbnw/yahoo_scraping/blob/main/Yahoo_Ranking.ipynb\" target=\"_parent\"><img src=\"https://colab.research.google.com/assets/colab-badge.svg\" alt=\"Open In Colab\"/></a>"
      ]
    },
    {
      "cell_type": "code",
      "metadata": {
        "id": "ixKuN227xl-u"
      },
      "source": [
        "#Yahoo_Ranking 各種ランキングスクレイピング(html)\n",
        "\n",
        "import pandas as pd\n",
        "import requests\n",
        "from bs4 import BeautifulSoup\n",
        "import csv\n",
        "import datetime\n",
        "import time  \n",
        "\n",
        "# #ヤフー出稿メディア別のページ一覧を読み込み\n",
        "df = pd.read_csv('yahoo_ranking_url.csv')\n",
        "\n",
        "#保存先ファイルを開き、列を作成\n",
        "with open(\"****.csv\", mode=\"a\", encoding=\"utf_8_sig\", newline='') as f:\n",
        "  writer = csv.DictWriter(f, ['time','category','rankNum', 'title','media', 'Pubdate', 'Link'])\n",
        "  writer.writeheader()\n",
        "  \n",
        "  #スクレイピングの設定\n",
        "  for index, row in df.iterrows():\n",
        "    url = row['url']\n",
        "    html = requests.get( url )\n",
        "    soup = BeautifulSoup(html.text, 'html.parser' )\n",
        "\n",
        "    for news in soup.find_all(class_='newsFeed_item newsFeed_item-normal newsFeed_item-ranking'):\n",
        "      d = {} \n",
        "      d['time']  = datetime.datetime.now()\n",
        "      d['category']  = row['category']\n",
        "      d['rankNum'] =  news.select_one('.newsFeed_item_rankNum').text\n",
        "      d['Title'] = news.select_one('.newsFeed_item_title').text\n",
        "      d['media'] = news.select_one('.newsFeed_item_media').text\n",
        "      d['Pubdate'] = news.select_one('.newsFeed_item_date').text\n",
        "      d['Link'] = news.a['href']\n",
        "      writer.writerow(d)\n",
        "    time.sleep(5) # ５秒待つ\n",
        "\n",
        "\n"
      ],
      "execution_count": 16,
      "outputs": []
    },
    {
      "cell_type": "code",
      "metadata": {
        "colab": {
          "base_uri": "https://localhost:8080/"
        },
        "id": "Dzv6SvGr4TDe",
        "outputId": "fe95d378-5f0f-4a9d-a8c9-a334e3dd8474"
      },
      "source": [
        "import datetime\n",
        "datetime.datetime.now()\n",
        "# dt_now = datetime.datetime.now()\n",
        "# print(dt_now)"
      ],
      "execution_count": 14,
      "outputs": [
        {
          "output_type": "execute_result",
          "data": {
            "text/plain": [
              "datetime.datetime(2021, 4, 2, 23, 21, 5, 989230)"
            ]
          },
          "metadata": {
            "tags": []
          },
          "execution_count": 14
        }
      ]
    }
  ]
}
